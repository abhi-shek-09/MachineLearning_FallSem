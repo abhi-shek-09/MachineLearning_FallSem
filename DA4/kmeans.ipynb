{
 "cells": [
  {
   "cell_type": "code",
   "execution_count": 1,
   "metadata": {},
   "outputs": [
    {
     "name": "stdout",
     "output_type": "stream",
     "text": [
      "Converged in 2 iterations.\n",
      "Final Centroids: [[22.5, 22.5], [4.833333333333333, 4.833333333333333], [50.0, 50.0]]\n",
      "Cluster 1: [[20, 21], [21, 20], [24, 25], [25, 24]]\n",
      "Cluster 2: [[1, 2], [2, 1], [4, 5], [5, 4], [8, 9], [9, 8]]\n",
      "Cluster 3: [[50, 50]]\n"
     ]
    }
   ],
   "source": [
    "import random\n",
    "import math\n",
    "\n",
    "def euclidean_distance(point1, point2):\n",
    "    return math.sqrt(sum((p1 - p2) ** 2 for p1, p2 in zip(point1, point2)))\n",
    "\n",
    "def assign_clusters(data_points, centroids):\n",
    "    clusters = [[] for _ in centroids]\n",
    "    for point in data_points:\n",
    "        distances = [euclidean_distance(point, centroid) for centroid in centroids]\n",
    "        closest_centroid_index = distances.index(min(distances))\n",
    "        clusters[closest_centroid_index].append(point)\n",
    "    return clusters\n",
    "\n",
    "def update_centroids(clusters):\n",
    "    new_centroids = []\n",
    "    for cluster in clusters:\n",
    "        if cluster:  \n",
    "            new_centroid = [sum(dim) / len(cluster) for dim in zip(*cluster)]\n",
    "            new_centroids.append(new_centroid)\n",
    "        else:\n",
    "            new_centroids.append([random.random() for _ in clusters[0][0]])  \n",
    "    return new_centroids\n",
    "\n",
    "def k_means_clustering(data_points, k, max_iterations=100):\n",
    "    centroids = random.sample(data_points, k)\n",
    "    for iteration in range(max_iterations):\n",
    "        clusters = assign_clusters(data_points, centroids)\n",
    "        new_centroids = update_centroids(clusters)\n",
    "        if new_centroids == centroids:\n",
    "            print(f\"Converged in {iteration} iterations.\")\n",
    "            break\n",
    "        centroids = new_centroids\n",
    "    return clusters, centroids\n",
    "\n",
    "data_points = [\n",
    "    [1, 2], [2, 1], [4, 5], [5, 4], [8, 9], [9, 8], \n",
    "    [20, 21], [21, 20], [24, 25], [25, 24], [50, 50]\n",
    "]\n",
    "\n",
    "k = 3\n",
    "clusters, centroids = k_means_clustering(data_points, k)\n",
    "\n",
    "print(\"Final Centroids:\", centroids)\n",
    "for idx, cluster in enumerate(clusters):\n",
    "    print(f\"Cluster {idx+1}: {cluster}\")"
   ]
  }
 ],
 "metadata": {
  "kernelspec": {
   "display_name": "base",
   "language": "python",
   "name": "python3"
  },
  "language_info": {
   "codemirror_mode": {
    "name": "ipython",
    "version": 3
   },
   "file_extension": ".py",
   "mimetype": "text/x-python",
   "name": "python",
   "nbconvert_exporter": "python",
   "pygments_lexer": "ipython3",
   "version": "3.9.17"
  }
 },
 "nbformat": 4,
 "nbformat_minor": 2
}
