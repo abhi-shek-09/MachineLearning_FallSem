{
  "nbformat": 4,
  "nbformat_minor": 0,
  "metadata": {
    "colab": {
      "provenance": []
    },
    "kernelspec": {
      "name": "python3",
      "display_name": "Python 3"
    },
    "language_info": {
      "name": "python"
    }
  },
  "cells": [
    {
      "cell_type": "code",
      "execution_count": 13,
      "metadata": {
        "id": "t4mch01lvFQW"
      },
      "outputs": [],
      "source": [
        "import numpy as np\n",
        "from sklearn.datasets import load_wine\n",
        "from sklearn.model_selection import train_test_split\n",
        "from sklearn.metrics import accuracy_score\n",
        "from graphviz import Digraph"
      ]
    },
    {
      "cell_type": "code",
      "source": [
        "def gini_index(groups, classes):\n",
        "    n_instances = float(sum([len(group) for group in groups]))\n",
        "    gini = 0.0\n",
        "    for group in groups:\n",
        "        size = float(len(group))\n",
        "        if size == 0:\n",
        "            continue\n",
        "        score = 0.0\n",
        "        for class_val in classes:\n",
        "            p = [row[-1] for row in group].count(class_val) / size\n",
        "            score += p * p\n",
        "        gini += (1.0 - score) * (size / n_instances)\n",
        "    return gini\n",
        "\n",
        "def test_split(index, value, dataset):\n",
        "    left, right = list(), list()\n",
        "    for row in dataset:\n",
        "        if row[index] < value:\n",
        "            left.append(row)\n",
        "        else:\n",
        "            right.append(row)\n",
        "    return left, right\n",
        "\n",
        "def get_best_split(dataset):\n",
        "    class_values = list(set(row[-1] for row in dataset))\n",
        "    best_index, best_value, best_score, best_groups = None, None, float('inf'), None\n",
        "    for index in range(len(dataset[0]) - 1):\n",
        "        for row in dataset:\n",
        "            groups = test_split(index, row[index], dataset)\n",
        "            gini = gini_index(groups, class_values)\n",
        "            if gini < best_score:\n",
        "                best_index, best_value, best_score, best_groups = index, row[index], gini, groups\n",
        "    return {'index': best_index, 'value': best_value, 'groups': best_groups}"
      ],
      "metadata": {
        "id": "cK9S55rWvMOV"
      },
      "execution_count": 14,
      "outputs": []
    },
    {
      "cell_type": "code",
      "source": [
        "def to_terminal(group):\n",
        "    outcomes = [row[-1] for row in group]\n",
        "    return max(set(outcomes), key=outcomes.count)\n",
        "\n",
        "def split(node, max_depth, min_size, depth):\n",
        "    left, right = node['groups']\n",
        "    del(node['groups'])\n",
        "    if not left or not right:\n",
        "        node['left'] = node['right'] = to_terminal(left + right)\n",
        "        return\n",
        "    if depth >= max_depth:\n",
        "        node['left'], node['right'] = to_terminal(left), to_terminal(right)\n",
        "        return\n",
        "    if len(left) <= min_size:\n",
        "        node['left'] = to_terminal(left)\n",
        "    else:\n",
        "        node['left'] = get_best_split(left)\n",
        "        split(node['left'], max_depth, min_size, depth + 1)\n",
        "    if len(right) <= min_size:\n",
        "        node['right'] = to_terminal(right)\n",
        "    else:\n",
        "        node['right'] = get_best_split(right)\n",
        "        split(node['right'], max_depth, min_size, depth + 1)\n",
        "\n",
        "def build_tree(train, max_depth, min_size):\n",
        "    root = get_best_split(train)\n",
        "    split(root, max_depth, min_size, 1)\n",
        "    return root"
      ],
      "metadata": {
        "id": "LjRl_B0PvM0j"
      },
      "execution_count": 15,
      "outputs": []
    },
    {
      "cell_type": "code",
      "source": [
        "def predict(node, row):\n",
        "    if row[node['index']] < node['value']:\n",
        "        if isinstance(node['left'], dict):\n",
        "            return predict(node['left'], row)\n",
        "        else:\n",
        "            return node['left']\n",
        "    else:\n",
        "        if isinstance(node['right'], dict):\n",
        "            return predict(node['right'], row)\n",
        "        else:\n",
        "            return node['right']"
      ],
      "metadata": {
        "id": "ev-K7-4WvNYP"
      },
      "execution_count": 16,
      "outputs": []
    },
    {
      "cell_type": "code",
      "source": [
        "def subsample(dataset, ratio=1.0):\n",
        "    sample = list()\n",
        "    n_sample = round(len(dataset) * ratio)\n",
        "    while len(sample) < n_sample:\n",
        "        index = np.random.randint(len(dataset))\n",
        "        sample.append(dataset[index])\n",
        "    return sample\n",
        "\n",
        "def export_tree_to_dot(node, graph=None, node_id=0):\n",
        "    if graph is None:\n",
        "        graph = Digraph()\n",
        "\n",
        "    if isinstance(node, dict):\n",
        "        feature_index = node['index']\n",
        "        threshold = node['value']\n",
        "        left_id = node_id * 2 + 1\n",
        "        right_id = node_id * 2 + 2\n",
        "        graph.node(str(node_id), f\"X{feature_index} < {threshold:.3f}\")\n",
        "        graph = export_tree_to_dot(node['left'], graph, left_id)\n",
        "        graph.edge(str(node_id), str(left_id), label=\"Yes\")\n",
        "        graph = export_tree_to_dot(node['right'], graph, right_id)\n",
        "        graph.edge(str(node_id), str(right_id), label=\"No\")\n",
        "    else:\n",
        "        graph.node(str(node_id), f\"Leaf: {node}\", shape=\"ellipse\")\n",
        "\n",
        "    return graph"
      ],
      "metadata": {
        "id": "b0XSc0wbvNrJ"
      },
      "execution_count": 17,
      "outputs": []
    },
    {
      "cell_type": "code",
      "source": [
        "class RandomForest:\n",
        "    def __init__(self, n_trees, max_depth, min_size, sample_size):\n",
        "        self.n_trees = n_trees\n",
        "        self.max_depth = max_depth\n",
        "        self.min_size = min_size\n",
        "        self.sample_size = sample_size\n",
        "        self.trees = []\n",
        "\n",
        "    def fit(self, train):\n",
        "        self.trees = []\n",
        "        for i in range(self.n_trees):\n",
        "            sample = subsample(train, self.sample_size)\n",
        "            tree = build_tree(sample, self.max_depth, self.min_size)\n",
        "            self.trees.append(tree)\n",
        "            print(f\"Tree {i + 1} trained.\")\n",
        "\n",
        "    def bagging_predict(self, row):\n",
        "        predictions = [predict(tree, row) for tree in self.trees]\n",
        "        return max(set(predictions), key=predictions.count)\n",
        "\n",
        "    def predict(self, test):\n",
        "        predictions = [self.bagging_predict(row) for row in test]\n",
        "        return predictions\n",
        "\n",
        "    def visualize_tree(self, tree_index):\n",
        "        if tree_index < len(self.trees):\n",
        "            tree = self.trees[tree_index]\n",
        "            dot = export_tree_to_dot(tree)\n",
        "            dot.render(f\"tree_{tree_index}\", format=\"png\", cleanup=False)\n",
        "            return dot\n",
        "        else:\n",
        "            print(\"Invalid tree index.\")\n",
        "\n",
        "    def visualize_all_trees(self):\n",
        "        for i in range(len(self.trees)):\n",
        "            print(f\"Visualizing Tree {i + 1}\")\n",
        "            self.visualize_tree(i)"
      ],
      "metadata": {
        "id": "wxbgFJmM1EXY"
      },
      "execution_count": 18,
      "outputs": []
    },
    {
      "cell_type": "code",
      "source": [
        "data = load_wine()\n",
        "dataset = np.c_[data.data, data.target]\n",
        "train, test = train_test_split(dataset, test_size=0.3, random_state=42)\n",
        "rf = RandomForest(n_trees=5, max_depth=5, min_size=10, sample_size=0.8)\n",
        "rf.fit(train.tolist())\n",
        "\n",
        "y_test = [row[-1] for row in test]\n",
        "y_pred = rf.predict(test.tolist())\n",
        "\n",
        "accuracy = accuracy_score(y_test, y_pred)\n",
        "print(f'Random Forest Accuracy: {accuracy * 100:.2f}%')\n",
        "\n",
        "rf.visualize_all_trees()"
      ],
      "metadata": {
        "colab": {
          "base_uri": "https://localhost:8080/"
        },
        "id": "DPz_s6s41I7D",
        "outputId": "3a25a448-9330-4330-fa38-7208de71f44d"
      },
      "execution_count": 20,
      "outputs": [
        {
          "output_type": "stream",
          "name": "stdout",
          "text": [
            "Tree 1 trained.\n",
            "Tree 2 trained.\n",
            "Tree 3 trained.\n",
            "Tree 4 trained.\n",
            "Tree 5 trained.\n",
            "Random Forest Accuracy: 94.44%\n",
            "Visualizing Tree 1\n",
            "Visualizing Tree 2\n",
            "Visualizing Tree 3\n",
            "Visualizing Tree 4\n",
            "Visualizing Tree 5\n"
          ]
        }
      ]
    },
    {
      "cell_type": "code",
      "source": [
        "import numpy as np\n",
        "\n",
        "y_true = np.array([1, 0, 1, 1, 0, 1, 0, 0, 1, 0])\n",
        "y_pred = np.array([1, 0, 0, 1, 0, 1, 1, 0, 1, 0])\n",
        "\n",
        "tp = sum((y_true == 1) & (y_pred == 1))\n",
        "tn = sum((y_true == 0) & (y_pred == 0))\n",
        "fp = sum((y_true == 0) & (y_pred == 1))\n",
        "fn = sum((y_true == 1) & (y_pred == 0))\n",
        "\n",
        "precision = tp / (tp + fp) if (tp + fp) != 0 else 0\n",
        "recall = tp / (tp + fn) if (tp + fn) != 0 else 0\n",
        "accuracy = (tp + tn) / len(y_true)\n",
        "f1 = 2 * (precision * recall) / (precision + recall) if (precision + recall) != 0 else 0\n",
        "tpr = tp / (tp + fn) if (tp + fn) != 0 else 0\n",
        "fpr = fp / (fp + tn) if (fp + tn) != 0 else 0\n",
        "\n",
        "print(f\"Precision: {precision:.2f}\")\n",
        "print(f\"Recall: {recall:.2f}\")\n",
        "print(f\"Accuracy: {accuracy:.2f}\")\n",
        "print(f\"F1 Score: {f1:.2f}\")\n",
        "print(f\"TPR (Sensitivity): {tpr:.2f}\")\n",
        "print(f\"FPR: {fpr:.2f}\")"
      ],
      "metadata": {
        "id": "WODDHUKPv6Mf",
        "colab": {
          "base_uri": "https://localhost:8080/"
        },
        "outputId": "2a241a06-cac0-4adc-bde8-556aa0b5d952"
      },
      "execution_count": 12,
      "outputs": [
        {
          "output_type": "stream",
          "name": "stdout",
          "text": [
            "Precision: 0.80\n",
            "Recall: 0.80\n",
            "Accuracy: 0.80\n",
            "F1 Score: 0.80\n",
            "TPR (Sensitivity): 0.80\n",
            "FPR: 0.20\n"
          ]
        }
      ]
    },
    {
      "cell_type": "code",
      "source": [],
      "metadata": {
        "id": "RJtqPs_s0Ian"
      },
      "execution_count": null,
      "outputs": []
    }
  ]
}