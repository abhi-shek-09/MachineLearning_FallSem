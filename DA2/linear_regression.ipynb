{
 "cells": [
  {
   "cell_type": "code",
   "execution_count": 1,
   "metadata": {},
   "outputs": [],
   "source": [
    "import numpy as np"
   ]
  },
  {
   "cell_type": "code",
   "execution_count": 4,
   "metadata": {},
   "outputs": [
    {
     "name": "stdout",
     "output_type": "stream",
     "text": [
      "Weights: [0.96419211 1.01383102]\n",
      "Bias: 0.049638915632194455\n",
      "Predictions: [3.04149307 5.01951621 6.99753934 8.97556247]\n"
     ]
    }
   ],
   "source": [
    "X = np.array([[1, 2], [2, 3], [3, 4], [4, 5]])\n",
    "y = np.array([3, 5, 7, 9])\n",
    "\n",
    "learning_rate = 0.01\n",
    "num_iterations = 1000\n",
    "num_samples, num_features = X.shape\n",
    "weights = np.zeros(num_features)\n",
    "bias = 0\n",
    "\n",
    "for _ in range(num_iterations):\n",
    "    predictions = np.dot(X, weights) + bias\n",
    "    dw = (1 / num_samples) * np.dot(X.T, (predictions - y))\n",
    "    db = (1 / num_samples) * np.sum(predictions - y)\n",
    "    weights -= learning_rate * dw\n",
    "    bias -= learning_rate * db\n",
    "\n",
    "print(\"Weights:\", weights)\n",
    "print(\"Bias:\", bias)\n",
    "predictions = np.dot(X, weights) + bias\n",
    "print(\"Predictions:\", predictions)"
   ]
  },
  {
   "cell_type": "code",
   "execution_count": 2,
   "metadata": {},
   "outputs": [
    {
     "data": {
      "text/plain": [
       "[(3, -1), (2, 3), (3, 5), (9, 4)]"
      ]
     },
     "execution_count": 2,
     "metadata": {},
     "output_type": "execute_result"
    }
   ],
   "source": [
    "points = [(2,3), (3,-1), (9, 4), (3,5)]\n",
    "\n",
    "new_points = sorted(points, key = lambda a: a[0] + a[1])\n",
    "new_points"
   ]
  },
  {
   "cell_type": "code",
   "execution_count": 5,
   "metadata": {},
   "outputs": [
    {
     "data": {
      "text/plain": [
       "[1, 4, 9, 16, 25]"
      ]
     },
     "execution_count": 5,
     "metadata": {},
     "output_type": "execute_result"
    }
   ],
   "source": [
    "a = [1,2,3,4,5]\n",
    "\n",
    "b = map(lambda x: x**2, a)\n",
    "list(b)"
   ]
  }
 ],
 "metadata": {
  "kernelspec": {
   "display_name": "base",
   "language": "python",
   "name": "python3"
  },
  "language_info": {
   "codemirror_mode": {
    "name": "ipython",
    "version": 3
   },
   "file_extension": ".py",
   "mimetype": "text/x-python",
   "name": "python",
   "nbconvert_exporter": "python",
   "pygments_lexer": "ipython3",
   "version": "3.9.17"
  }
 },
 "nbformat": 4,
 "nbformat_minor": 2
}
