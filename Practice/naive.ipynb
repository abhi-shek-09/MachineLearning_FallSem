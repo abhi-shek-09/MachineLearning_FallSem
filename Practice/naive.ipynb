{
 "cells": [
  {
   "cell_type": "code",
   "execution_count": 1,
   "metadata": {},
   "outputs": [],
   "source": [
    "import pandas as pd \n",
    "from collections import Counter"
   ]
  },
  {
   "cell_type": "code",
   "execution_count": 2,
   "metadata": {},
   "outputs": [
    {
     "data": {
      "text/html": [
       "<div>\n",
       "<style scoped>\n",
       "    .dataframe tbody tr th:only-of-type {\n",
       "        vertical-align: middle;\n",
       "    }\n",
       "\n",
       "    .dataframe tbody tr th {\n",
       "        vertical-align: top;\n",
       "    }\n",
       "\n",
       "    .dataframe thead th {\n",
       "        text-align: right;\n",
       "    }\n",
       "</style>\n",
       "<table border=\"1\" class=\"dataframe\">\n",
       "  <thead>\n",
       "    <tr style=\"text-align: right;\">\n",
       "      <th></th>\n",
       "      <th>Color</th>\n",
       "      <th>Type</th>\n",
       "      <th>Origin</th>\n",
       "      <th>Stolen</th>\n",
       "    </tr>\n",
       "  </thead>\n",
       "  <tbody>\n",
       "    <tr>\n",
       "      <th>0</th>\n",
       "      <td>Red</td>\n",
       "      <td>Sports</td>\n",
       "      <td>Domestic</td>\n",
       "      <td>Yes</td>\n",
       "    </tr>\n",
       "    <tr>\n",
       "      <th>1</th>\n",
       "      <td>Red</td>\n",
       "      <td>Sports</td>\n",
       "      <td>Domestic</td>\n",
       "      <td>No</td>\n",
       "    </tr>\n",
       "    <tr>\n",
       "      <th>2</th>\n",
       "      <td>Red</td>\n",
       "      <td>Sports</td>\n",
       "      <td>Domestic</td>\n",
       "      <td>Yes</td>\n",
       "    </tr>\n",
       "    <tr>\n",
       "      <th>3</th>\n",
       "      <td>Yellow</td>\n",
       "      <td>Sports</td>\n",
       "      <td>Domestic</td>\n",
       "      <td>No</td>\n",
       "    </tr>\n",
       "    <tr>\n",
       "      <th>4</th>\n",
       "      <td>Yellow</td>\n",
       "      <td>Sports</td>\n",
       "      <td>Imported</td>\n",
       "      <td>Yes</td>\n",
       "    </tr>\n",
       "  </tbody>\n",
       "</table>\n",
       "</div>"
      ],
      "text/plain": [
       "    Color    Type    Origin Stolen\n",
       "0     Red  Sports  Domestic    Yes\n",
       "1     Red  Sports  Domestic     No\n",
       "2     Red  Sports  Domestic    Yes\n",
       "3  Yellow  Sports  Domestic     No\n",
       "4  Yellow  Sports  Imported    Yes"
      ]
     },
     "execution_count": 2,
     "metadata": {},
     "output_type": "execute_result"
    }
   ],
   "source": [
    "df = pd.read_csv('../DA2/classification.csv')\n",
    "df.head()"
   ]
  },
  {
   "cell_type": "code",
   "execution_count": 3,
   "metadata": {},
   "outputs": [],
   "source": [
    "prediction = \"Red,SUV,Domestic\"\n",
    "prediction = prediction.split(\",\")"
   ]
  },
  {
   "cell_type": "code",
   "execution_count": 4,
   "metadata": {},
   "outputs": [
    {
     "data": {
      "text/plain": [
       "{'Yes': 0.5, 'No': 0.5}"
      ]
     },
     "execution_count": 4,
     "metadata": {},
     "output_type": "execute_result"
    }
   ],
   "source": [
    "target_class_probs = {str(key): val for key, val in Counter(df[df.columns[-1]]).items()}\n",
    "target_class_count = {str(key): val for key, val in Counter(df[df.columns[-1]]).items()}\n",
    "target_classes = list(target_class_probs.keys())\n",
    "for team in target_class_probs:\n",
    "    target_class_probs[team] /= len(df)\n",
    "target_class_probs"
   ]
  },
  {
   "cell_type": "code",
   "execution_count": 11,
   "metadata": {},
   "outputs": [],
   "source": [
    "all_probabilities = {}\n",
    "for _, row in df.iterrows():\n",
    "    for feature in df.columns[:-1]:\n",
    "        curr_key = str(row[feature]) + \",\" + str(row[df.columns[-1]])\n",
    "        if curr_key not in all_probabilities:\n",
    "            all_probabilities.setdefault(curr_key, 0)\n",
    "        all_probabilities[curr_key] += 1\n",
    "\n",
    "for curr_probab in all_probabilities:\n",
    "    curr_class = curr_probab.split(\",\")[-1]\n",
    "    all_probabilities[curr_probab] = all_probabilities[curr_probab]/target_class_count[curr_class]\n",
    "\n",
    "penultimate_probability = {}\n",
    "for class_val in target_classes:\n",
    "    same_class = []\n",
    "    for pred in prediction:\n",
    "        same_class.append(str(pred) + \",\" + str(class_val))\n",
    "    penultimate_probability.setdefault(class_val, same_class)\n",
    "\n",
    "final_probabilities = {}\n",
    "for cls, class_list in penultimate_probability.items():\n",
    "    probability = 1\n",
    "    for class_val in class_list:\n",
    "        if class_val not in all_probabilities:\n",
    "            all_probabilities[class_val] = 0\n",
    "        probability *= all_probabilities[class_val]\n",
    "    final_probabilities[cls] = probability\n",
    "\n",
    "\n",
    "for key, val in final_probabilities.items():\n",
    "    final_probabilities[key] = val * target_class_probs[key]\n",
    "\n",
    "max_probab = -1\n",
    "predicted_class = ''\n",
    "for key, val in final_probabilities.items():\n",
    "    if val > max_probab:\n",
    "        max_probab = val\n",
    "        predicted_class = key"
   ]
  },
  {
   "cell_type": "code",
   "execution_count": 12,
   "metadata": {},
   "outputs": [
    {
     "name": "stdout",
     "output_type": "stream",
     "text": [
      "{'Yes': 0.024, 'No': 0.072}\n",
      "No\n"
     ]
    }
   ],
   "source": [
    "print(final_probabilities)\n",
    "print(predicted_class)"
   ]
  },
  {
   "cell_type": "code",
   "execution_count": null,
   "metadata": {},
   "outputs": [],
   "source": []
  }
 ],
 "metadata": {
  "kernelspec": {
   "display_name": "base",
   "language": "python",
   "name": "python3"
  },
  "language_info": {
   "codemirror_mode": {
    "name": "ipython",
    "version": 3
   },
   "file_extension": ".py",
   "mimetype": "text/x-python",
   "name": "python",
   "nbconvert_exporter": "python",
   "pygments_lexer": "ipython3",
   "version": "3.9.17"
  }
 },
 "nbformat": 4,
 "nbformat_minor": 2
}
