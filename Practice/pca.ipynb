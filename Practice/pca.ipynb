{
 "cells": [
  {
   "cell_type": "code",
   "execution_count": 3,
   "metadata": {},
   "outputs": [],
   "source": [
    "import math"
   ]
  },
  {
   "cell_type": "code",
   "execution_count": 12,
   "metadata": {},
   "outputs": [
    {
     "name": "stdout",
     "output_type": "stream",
     "text": [
      "[[4.305186922674707], [-3.7361286866113304], [-5.692827710560994], [5.123769474497617]]\n"
     ]
    }
   ],
   "source": [
    "def standardization(X):\n",
    "    means = []\n",
    "    for i in range(len(X[0])):\n",
    "        colMeans = sum(row[i] for row in X)/len(X)\n",
    "        means.append(colMeans)\n",
    "    \n",
    "    X_std = []\n",
    "    for row in X:\n",
    "        std_val = [(row[i] - means[i]) for i in range(len(row))]\n",
    "        X_std.append(std_val)\n",
    "    \n",
    "    return X_std, means\n",
    "\n",
    "def mat_mult(A, B):\n",
    "    res = [[0]*len(B[0]) for _ in range(len(A))]\n",
    "    for i in range(len(A)):\n",
    "        for j in range(len(B[0])):\n",
    "            for k in range(len(B)):\n",
    "                res[i][j] += A[i][k] * B[k][j]\n",
    "    return res\n",
    "\n",
    "def transpose(A):\n",
    "    return [[A[j][i] for j in range(len(A))] for i in range(len(A[0]))]\n",
    "\n",
    "def calc_cov(X):\n",
    "    samples, features = len(X), len(X[0])\n",
    "    cov = [[0]*features for _ in range(features)]\n",
    "    for i in range(features):\n",
    "        for j in range(features):\n",
    "            cov[i][j] = sum(X[k][i]*X[k][j] for k in range(samples))/(samples-1)\n",
    "    return cov\n",
    "\n",
    "def norm(x):\n",
    "    return math.sqrt(sum(v**2 for v in x))\n",
    "\n",
    "def power_calc(A, num_iters = 100):\n",
    "    n, _ = len(A), len(A[0])\n",
    "    b_k = [1]*n\n",
    "    for _ in range(num_iters):\n",
    "        b_k1 = [sum(A[i][j] * b_k[j] for j in range(n)) for i in range(n)]\n",
    "        b_k1_norm = norm(b_k1)\n",
    "        b_k = [x/b_k1_norm for x in b_k1]\n",
    "    eigenvalue = sum(b_k[i] * sum(A[i][j] * b_k[j] for j in range(n)) for i in range(n))\n",
    "    return eigenvalue, b_k\n",
    "\n",
    "\n",
    "def select_top_k(eigenvalues, eigenvectors, k):\n",
    "    eigen_zip = sorted(zip(eigenvalues, eigenvectors), reverse=True)\n",
    "    top_k = [eigenvector for _, eigenvector in eigen_zip[:k]]\n",
    "    return top_k\n",
    "\n",
    "def project_vectors(X_std, top_k):\n",
    "    return mat_mult(X_std, transpose(top_k))\n",
    "\n",
    "def pca(X, k):\n",
    "    X_std, means = standardization(X)\n",
    "    covariance_matrix = calc_cov(X_std)\n",
    "    eigenvalues = []\n",
    "    eigenvectors = []\n",
    "    for _ in range(len(covariance_matrix)):\n",
    "        eigenvalue, eigenvector = power_calc(covariance_matrix)\n",
    "        eigenvalues.append(eigenvalue)\n",
    "        eigenvectors.append(eigenvector)\n",
    "    top_k_eigenvectors = select_top_k(eigenvalues, eigenvectors, k)\n",
    "    X_reduced = project_vectors(X_std, top_k_eigenvectors)\n",
    "    return X_reduced, top_k_eigenvectors\n",
    "\n",
    "X = [\n",
    "    [4, 11],\n",
    "    [8, 4],\n",
    "    [13, 5],\n",
    "    [7, 14]\n",
    "]\n",
    "\n",
    "k = 1\n",
    "X_reduced, top_k_eigenvector = pca(X, k)\n",
    "print(X_reduced)"
   ]
  }
 ],
 "metadata": {
  "kernelspec": {
   "display_name": "base",
   "language": "python",
   "name": "python3"
  },
  "language_info": {
   "codemirror_mode": {
    "name": "ipython",
    "version": 3
   },
   "file_extension": ".py",
   "mimetype": "text/x-python",
   "name": "python",
   "nbconvert_exporter": "python",
   "pygments_lexer": "ipython3",
   "version": "3.9.17"
  }
 },
 "nbformat": 4,
 "nbformat_minor": 2
}
