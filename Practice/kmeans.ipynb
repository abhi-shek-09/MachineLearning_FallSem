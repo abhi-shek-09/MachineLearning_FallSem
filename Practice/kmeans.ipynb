{
 "cells": [
  {
   "cell_type": "code",
   "execution_count": 7,
   "metadata": {},
   "outputs": [],
   "source": [
    "import random\n",
    "import math"
   ]
  },
  {
   "cell_type": "code",
   "execution_count": 15,
   "metadata": {},
   "outputs": [
    {
     "name": "stdout",
     "output_type": "stream",
     "text": [
      "Converging now \n",
      "\n",
      "[[[20, 21], [21, 20], [24, 25], [25, 24], [50, 50]], [[1, 2], [2, 1], [4, 5], [5, 4]], [[8, 9], [9, 8]]]\n",
      "[[28.0, 28.0], [3.0, 3.0], [8.5, 8.5]]\n"
     ]
    }
   ],
   "source": [
    "def euclidean_distance(point1, point2):\n",
    "    return math.sqrt(sum((p1 - p2)**2 for p1, p2 in zip(point1, point2)))\n",
    "\n",
    "def calc_clusters(data_points, centroids):\n",
    "    clusters = [[] for _ in centroids]\n",
    "    for point in data_points:\n",
    "        distances = [euclidean_distance(point, centroid) for centroid in centroids]\n",
    "        min_distance_index = distances.index(min(distances))\n",
    "        clusters[min_distance_index].append(point)\n",
    "    return clusters\n",
    "\n",
    "def update_centroids(clusters):\n",
    "    new_centroids = []\n",
    "    for cluster in clusters:\n",
    "        if cluster:\n",
    "            new_centroid  = [sum(dim)/len(cluster) for dim in zip(*cluster)]\n",
    "            new_centroids.append(new_centroid)\n",
    "        else:\n",
    "            new_centroids.append([random.random() for _ in clusters[0][0]]) \n",
    "    #     new_point = []\n",
    "    #     n = len(cluster)\n",
    "    #     for point in cluster:\n",
    "    #         new_point[0] += point[0]\n",
    "    #         new_point[1] += point[1]\n",
    "    #     new_point[0] /= n\n",
    "    #     new_point[1] /= n\n",
    "    #     new_centroids.append(new_point)\n",
    "    return new_centroids\n",
    "\n",
    "def kmeans(data_points, k, max_iters = 100):\n",
    "    centroids = random.sample(data_points, k)\n",
    "    for _ in range(max_iters):\n",
    "        clusters = calc_clusters(data_points, centroids)\n",
    "        new_centroids = update_centroids(clusters)\n",
    "        if new_centroids == centroids:\n",
    "            print(\"Converging now \\n\")\n",
    "            break\n",
    "        centroids = new_centroids\n",
    "    return clusters, centroids\n",
    "\n",
    "data_points = [\n",
    "    [1, 2], [2, 1], [4, 5], [5, 4], [8, 9], [9, 8], \n",
    "    [20, 21], [21, 20], [24, 25], [25, 24], [50, 50]\n",
    "]\n",
    "\n",
    "k = 3\n",
    "clusters, centroids = kmeans(data_points, k)\n",
    "print(clusters)\n",
    "print(centroids)"
   ]
  },
  {
   "cell_type": "code",
   "execution_count": null,
   "metadata": {},
   "outputs": [],
   "source": []
  }
 ],
 "metadata": {
  "kernelspec": {
   "display_name": "base",
   "language": "python",
   "name": "python3"
  },
  "language_info": {
   "codemirror_mode": {
    "name": "ipython",
    "version": 3
   },
   "file_extension": ".py",
   "mimetype": "text/x-python",
   "name": "python",
   "nbconvert_exporter": "python",
   "pygments_lexer": "ipython3",
   "version": "3.9.17"
  }
 },
 "nbformat": 4,
 "nbformat_minor": 2
}
