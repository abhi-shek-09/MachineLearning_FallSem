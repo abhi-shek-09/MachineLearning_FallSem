{
 "cells": [
  {
   "cell_type": "code",
   "execution_count": 1,
   "metadata": {},
   "outputs": [],
   "source": [
    "import numpy as np\n",
    "import pandas as pd\n",
    "from collections import Counter"
   ]
  },
  {
   "cell_type": "code",
   "execution_count": 2,
   "metadata": {},
   "outputs": [
    {
     "data": {
      "text/html": [
       "<div>\n",
       "<style scoped>\n",
       "    .dataframe tbody tr th:only-of-type {\n",
       "        vertical-align: middle;\n",
       "    }\n",
       "\n",
       "    .dataframe tbody tr th {\n",
       "        vertical-align: top;\n",
       "    }\n",
       "\n",
       "    .dataframe thead th {\n",
       "        text-align: right;\n",
       "    }\n",
       "</style>\n",
       "<table border=\"1\" class=\"dataframe\">\n",
       "  <thead>\n",
       "    <tr style=\"text-align: right;\">\n",
       "      <th></th>\n",
       "      <th>Color</th>\n",
       "      <th>Engine Type</th>\n",
       "      <th>Top Speed</th>\n",
       "      <th>Aerodynamics</th>\n",
       "      <th>Team</th>\n",
       "    </tr>\n",
       "  </thead>\n",
       "  <tbody>\n",
       "    <tr>\n",
       "      <th>0</th>\n",
       "      <td>Red</td>\n",
       "      <td>Hybrid</td>\n",
       "      <td>Fast</td>\n",
       "      <td>Good</td>\n",
       "      <td>Red Bull</td>\n",
       "    </tr>\n",
       "    <tr>\n",
       "      <th>1</th>\n",
       "      <td>Blue</td>\n",
       "      <td>Electric</td>\n",
       "      <td>Medium</td>\n",
       "      <td>Excellent</td>\n",
       "      <td>Mercedes</td>\n",
       "    </tr>\n",
       "    <tr>\n",
       "      <th>2</th>\n",
       "      <td>Blue</td>\n",
       "      <td>Hybrid</td>\n",
       "      <td>Fast</td>\n",
       "      <td>Fair</td>\n",
       "      <td>Red Bull</td>\n",
       "    </tr>\n",
       "    <tr>\n",
       "      <th>3</th>\n",
       "      <td>Red</td>\n",
       "      <td>Hybrid</td>\n",
       "      <td>Medium</td>\n",
       "      <td>Good</td>\n",
       "      <td>Red Bull</td>\n",
       "    </tr>\n",
       "    <tr>\n",
       "      <th>4</th>\n",
       "      <td>Blue</td>\n",
       "      <td>Electric</td>\n",
       "      <td>Fast</td>\n",
       "      <td>Fair</td>\n",
       "      <td>Mercedes</td>\n",
       "    </tr>\n",
       "  </tbody>\n",
       "</table>\n",
       "</div>"
      ],
      "text/plain": [
       "  Color Engine Type Top Speed Aerodynamics      Team\n",
       "0   Red      Hybrid      Fast         Good  Red Bull\n",
       "1  Blue    Electric    Medium    Excellent  Mercedes\n",
       "2  Blue      Hybrid      Fast         Fair  Red Bull\n",
       "3   Red      Hybrid    Medium         Good  Red Bull\n",
       "4  Blue    Electric      Fast         Fair  Mercedes"
      ]
     },
     "execution_count": 2,
     "metadata": {},
     "output_type": "execute_result"
    }
   ],
   "source": [
    "df = pd.read_csv('../DA2/classification.csv')\n",
    "df.head()"
   ]
  },
  {
   "cell_type": "code",
   "execution_count": 3,
   "metadata": {},
   "outputs": [],
   "source": [
    "def gini_feature(df, feature, target_values):\n",
    "    values = df[feature].unique()\n",
    "    feature_count = {str(key): value for key, value in Counter(df[feature]).items()}\n",
    "    \n",
    "    count = {}\n",
    "    for val in values:\n",
    "        for tar in target_values:\n",
    "            count.setdefault(f\"{val},{tar}\", 0)\n",
    "    \n",
    "    for _, row in df.iterrows():\n",
    "        count[str(row[feature]) + \",\" + str(row[df.columns[-1]])] += 1\n",
    "        \n",
    "    for ele in count:\n",
    "        count[ele] = (count[ele] / feature_count[ele.split(\",\")[0]])**2\n",
    "    \n",
    "    final_dict = {}\n",
    "    for val in values:\n",
    "        total = 0\n",
    "        for ele in count:\n",
    "            if ele.split(\",\")[0] == val:\n",
    "                total += count[ele]\n",
    "        final_dict[val] = 1 - total\n",
    "    \n",
    "    for val in final_dict:\n",
    "        final_dict[val] = final_dict[val] * (feature_count[val]/len(df))\n",
    "    print(final_dict)\n",
    "    return sum(final_dict.values())"
   ]
  },
  {
   "cell_type": "code",
   "execution_count": 4,
   "metadata": {},
   "outputs": [
    {
     "name": "stdout",
     "output_type": "stream",
     "text": [
      "{'Red': 0.1875, 'Blue': 0.25}\n",
      "0.4375   1000000\n",
      "{'Hybrid': 0.1999999999999999, 'Electric': 0.16666666666666666}\n",
      "0.3666666666666666   0.4375\n",
      "{'Fast': 0.1999999999999999, 'Medium': 0.16666666666666666}\n",
      "0.3666666666666666   0.3666666666666666\n",
      "{'Good': 0.0, 'Excellent': 0.16666666666666666, 'Fair': 0.125}\n",
      "0.29166666666666663   0.3666666666666666\n",
      "Aerodynamics\n"
     ]
    }
   ],
   "source": [
    "rootNode = \"\"\n",
    "min_val = 1000000\n",
    "target = list(df[df.columns[-1]].unique())\n",
    "for feature in df.columns[:-1]:\n",
    "    curr_val = gini_feature(df, feature, target)\n",
    "    print(curr_val , \" \" , min_val)\n",
    "    if curr_val < min_val:\n",
    "        min_val = curr_val\n",
    "        rootNode = feature\n",
    "\n",
    "print(rootNode)"
   ]
  },
  {
   "cell_type": "code",
   "execution_count": null,
   "metadata": {},
   "outputs": [],
   "source": []
  }
 ],
 "metadata": {
  "kernelspec": {
   "display_name": "base",
   "language": "python",
   "name": "python3"
  },
  "language_info": {
   "codemirror_mode": {
    "name": "ipython",
    "version": 3
   },
   "file_extension": ".py",
   "mimetype": "text/x-python",
   "name": "python",
   "nbconvert_exporter": "python",
   "pygments_lexer": "ipython3",
   "version": "3.9.17"
  }
 },
 "nbformat": 4,
 "nbformat_minor": 2
}
