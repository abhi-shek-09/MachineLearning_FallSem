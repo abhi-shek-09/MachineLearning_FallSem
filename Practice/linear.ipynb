{
 "cells": [
  {
   "cell_type": "code",
   "execution_count": 8,
   "metadata": {},
   "outputs": [],
   "source": [
    "import numpy as np"
   ]
  },
  {
   "cell_type": "code",
   "execution_count": 9,
   "metadata": {},
   "outputs": [
    {
     "name": "stdout",
     "output_type": "stream",
     "text": [
      "Weights: [0.96419211 1.01383102]\n",
      "Bias: 0.049638915632194455\n",
      "Predictions: [3.04149307 5.01951621 6.99753934 8.97556247]\n"
     ]
    }
   ],
   "source": [
    "X = np.array([[1, 2], [2, 3], [3, 4], [4, 5]])\n",
    "y = np.array([3, 5, 7, 9])\n",
    "\n",
    "learning_rate = 0.01\n",
    "num_iterations = 1000\n",
    "num_samples, num_features = X.shape\n",
    "weights = np.zeros(num_features)\n",
    "bias = 0\n",
    "\n",
    "for _ in range(num_iterations):\n",
    "    predictions = np.dot(X, weights) + bias\n",
    "    dw = (1 / num_samples) * np.dot(X.T, (predictions - y))\n",
    "    db = (1 / num_samples) * np.sum(predictions - y)\n",
    "    weights -= learning_rate * dw\n",
    "    bias -= learning_rate * db\n",
    "\n",
    "print(\"Weights:\", weights)\n",
    "print(\"Bias:\", bias)\n",
    "predictions = np.dot(X, weights) + bias\n",
    "print(\"Predictions:\", predictions)"
   ]
  },
  {
   "cell_type": "code",
   "execution_count": null,
   "metadata": {},
   "outputs": [],
   "source": []
  }
 ],
 "metadata": {
  "kernelspec": {
   "display_name": "base",
   "language": "python",
   "name": "python3"
  },
  "language_info": {
   "codemirror_mode": {
    "name": "ipython",
    "version": 3
   },
   "file_extension": ".py",
   "mimetype": "text/x-python",
   "name": "python",
   "nbconvert_exporter": "python",
   "pygments_lexer": "ipython3",
   "version": "3.9.17"
  }
 },
 "nbformat": 4,
 "nbformat_minor": 2
}
