{
 "cells": [
  {
   "cell_type": "code",
   "execution_count": 23,
   "metadata": {},
   "outputs": [],
   "source": [
    "import pandas as pd\n",
    "import numpy as np"
   ]
  },
  {
   "cell_type": "code",
   "execution_count": 24,
   "metadata": {},
   "outputs": [],
   "source": [
    "df = pd.read_csv(\"../DA1/CandidateElimination.csv\")\n",
    "concepts = np.array(df.iloc[:, 0:-1])\n",
    "target = np.array(df.iloc[:, -1])"
   ]
  },
  {
   "cell_type": "code",
   "execution_count": 28,
   "metadata": {},
   "outputs": [],
   "source": [
    "def learn(concepts, target):\n",
    "    spec = concepts[0].copy()\n",
    "    print(\"Initial specific boundary \", spec)\n",
    "    gen = [[\"?\" for _ in range(len(spec))] for _ in range(len(spec))]\n",
    "    print(\"\\n Initial general boundary \", gen)\n",
    "\n",
    "    for i, h in enumerate(concepts):\n",
    "        print(f\"\\n Instance {i+1} is: \", h)\n",
    "        if target[i] == \"Positive\":\n",
    "            for x in range(len(spec)):\n",
    "                if h[x] != spec[x]:\n",
    "                    spec[x] = \"?\"\n",
    "                    gen[x][x] = \"?\"\n",
    "        else:\n",
    "            for x in range(len(spec)):\n",
    "                if h[x] != spec[x]:\n",
    "                    gen[x][x] = spec[x]\n",
    "                else:\n",
    "                    gen[x][x] = \"?\"\n",
    "        \n",
    "        print(\"\\n General boundary is \", gen)\n",
    "        print(\"\\n Specific boundary is \", spec)\n",
    "    \n",
    "    gen = [h for h in gen if h != [\"?\"]*len(spec)]\n",
    "    return gen, spec"
   ]
  },
  {
   "cell_type": "code",
   "execution_count": 30,
   "metadata": {},
   "outputs": [
    {
     "name": "stdout",
     "output_type": "stream",
     "text": [
      "Initial specific boundary  ['Japan' 'Honda' 'Blue' 1980 'Economy']\n",
      "\n",
      " Initial general boundary  [['?', '?', '?', '?', '?'], ['?', '?', '?', '?', '?'], ['?', '?', '?', '?', '?'], ['?', '?', '?', '?', '?'], ['?', '?', '?', '?', '?']]\n",
      "\n",
      " Instance 1 is:  ['Japan' 'Honda' 'Blue' 1980 'Economy']\n",
      "\n",
      " General boundary is  [['?', '?', '?', '?', '?'], ['?', '?', '?', '?', '?'], ['?', '?', '?', '?', '?'], ['?', '?', '?', '?', '?'], ['?', '?', '?', '?', '?']]\n",
      "\n",
      " Specific boundary is  ['Japan' 'Honda' 'Blue' 1980 'Economy']\n",
      "\n",
      " Instance 2 is:  ['Japan' 'Toyota' 'Green' 1970 'Sports']\n",
      "\n",
      " General boundary is  [['?', '?', '?', '?', '?'], ['?', 'Honda', '?', '?', '?'], ['?', '?', 'Blue', '?', '?'], ['?', '?', '?', 1980, '?'], ['?', '?', '?', '?', 'Economy']]\n",
      "\n",
      " Specific boundary is  ['Japan' 'Honda' 'Blue' 1980 'Economy']\n",
      "\n",
      " Instance 3 is:  ['Japan' 'Toyota' 'Blue' 1990 'Economy']\n",
      "\n",
      " General boundary is  [['?', '?', '?', '?', '?'], ['?', '?', '?', '?', '?'], ['?', '?', 'Blue', '?', '?'], ['?', '?', '?', '?', '?'], ['?', '?', '?', '?', 'Economy']]\n",
      "\n",
      " Specific boundary is  ['Japan' '?' 'Blue' '?' 'Economy']\n",
      "\n",
      " Instance 4 is:  ['USA' 'Chrysler' 'Red' 1980 'Economy']\n",
      "\n",
      " General boundary is  [['Japan', '?', '?', '?', '?'], ['?', '?', '?', '?', '?'], ['?', '?', 'Blue', '?', '?'], ['?', '?', '?', '?', '?'], ['?', '?', '?', '?', '?']]\n",
      "\n",
      " Specific boundary is  ['Japan' '?' 'Blue' '?' 'Economy']\n",
      "\n",
      " Instance 5 is:  ['Japan' 'Honda' 'White' 1980 'Economy']\n",
      "\n",
      " General boundary is  [['Japan', '?', '?', '?', '?'], ['?', '?', '?', '?', '?'], ['?', '?', '?', '?', '?'], ['?', '?', '?', '?', '?'], ['?', '?', '?', '?', '?']]\n",
      "\n",
      " Specific boundary is  ['Japan' '?' '?' '?' 'Economy']\n",
      "\n",
      " Instance 6 is:  ['Japan' 'Toyota' 'Green' 1980 'Economy']\n",
      "\n",
      " General boundary is  [['Japan', '?', '?', '?', '?'], ['?', '?', '?', '?', '?'], ['?', '?', '?', '?', '?'], ['?', '?', '?', '?', '?'], ['?', '?', '?', '?', '?']]\n",
      "\n",
      " Specific boundary is  ['Japan' '?' '?' '?' 'Economy']\n",
      "\n",
      " Instance 7 is:  ['Japan' 'Honda' 'Red' 1990 'Economy']\n",
      "\n",
      " General boundary is  [['?', '?', '?', '?', '?'], ['?', '?', '?', '?', '?'], ['?', '?', '?', '?', '?'], ['?', '?', '?', '?', '?'], ['?', '?', '?', '?', '?']]\n",
      "\n",
      " Specific boundary is  ['Japan' '?' '?' '?' 'Economy']\n",
      "Final Specific_h: \n",
      "['Japan' '?' '?' '?' 'Economy']\n",
      "Final General_h: \n",
      "[]\n"
     ]
    }
   ],
   "source": [
    "g_final, s_final = learn(concepts, target)\n",
    "print(\"Final Specific_h: \", s_final, sep=\"\\n\")\n",
    "print(\"Final General_h: \", g_final, sep=\"\\n\")\n"
   ]
  },
  {
   "cell_type": "code",
   "execution_count": null,
   "metadata": {},
   "outputs": [],
   "source": []
  }
 ],
 "metadata": {
  "kernelspec": {
   "display_name": "base",
   "language": "python",
   "name": "python3"
  },
  "language_info": {
   "codemirror_mode": {
    "name": "ipython",
    "version": 3
   },
   "file_extension": ".py",
   "mimetype": "text/x-python",
   "name": "python",
   "nbconvert_exporter": "python",
   "pygments_lexer": "ipython3",
   "version": "3.9.17"
  }
 },
 "nbformat": 4,
 "nbformat_minor": 2
}
