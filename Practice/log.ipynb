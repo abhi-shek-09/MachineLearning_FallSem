{
 "cells": [
  {
   "cell_type": "code",
   "execution_count": null,
   "metadata": {},
   "outputs": [
    {
     "name": "stdout",
     "output_type": "stream",
     "text": [
      "0.8\n"
     ]
    }
   ],
   "source": [
    "import pandas as pd \n",
    "import numpy as np\n",
    "\n",
    "data = {\n",
    "    'Feature1': [1, 2, 3, 4, 5],\n",
    "    'Feature2': [2, 4, 6, 8, 10],\n",
    "    'Target': [0, 0, 1, 1, 1]  # Binary labels\n",
    "}\n",
    "\n",
    "df = pd.DataFrame(data)\n",
    "\n",
    "X = df[['Feature1', 'Feature2']]\n",
    "y = df['Target']\n",
    "\n",
    "X = np.c_[np.ones(X.shape[0]), X]\n",
    "wts = np.zeros(X.shape[1])\n",
    "lr = 0.01\n",
    "iters = 1000\n",
    "\n",
    "def sigmoid(z):\n",
    "    return 1 / (1+np.exp(-z))\n",
    "\n",
    "for _ in range(iters):\n",
    "    z = np.dot(X, wts)\n",
    "    preds = sigmoid(z)\n",
    "    gradient = np.dot(X.T, preds-y) / y.size\n",
    "    wts -= lr*gradient\n",
    "\n",
    "z = np.dot(X, wts)\n",
    "predicted_probs = sigmoid(z)\n",
    "preds = (predicted_probs >= 0.5).astype(int)\n",
    "accuracy = np.mean(preds == y)\n",
    "print(accuracy)"
   ]
  },
  {
   "cell_type": "code",
   "execution_count": null,
   "metadata": {},
   "outputs": [],
   "source": []
  }
 ],
 "metadata": {
  "kernelspec": {
   "display_name": "base",
   "language": "python",
   "name": "python3"
  },
  "language_info": {
   "codemirror_mode": {
    "name": "ipython",
    "version": 3
   },
   "file_extension": ".py",
   "mimetype": "text/x-python",
   "name": "python",
   "nbconvert_exporter": "python",
   "pygments_lexer": "ipython3",
   "version": "3.9.17"
  }
 },
 "nbformat": 4,
 "nbformat_minor": 2
}
