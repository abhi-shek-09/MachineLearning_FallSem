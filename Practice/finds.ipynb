{
 "cells": [
  {
   "cell_type": "code",
   "execution_count": null,
   "metadata": {},
   "outputs": [
    {
     "name": "stdout",
     "output_type": "stream",
     "text": [
      "['Sunny', 'Warm', '?', 'Warm', '?']\n"
     ]
    }
   ],
   "source": [
    "import pandas as pd\n",
    "\n",
    "df = pd.read_csv('../DA1/FindS.csv')\n",
    "\n",
    "def find_s_algorithm(df):\n",
    "    hypothesis = ['0'] * (len(df.columns))\n",
    "    for i in range(len(df)):\n",
    "        if df.iloc[i, -1] == 'Yes':  \n",
    "            for j in range(len(hypothesis)):\n",
    "                actual_term = df.iloc[i, j]\n",
    "                if hypothesis[j] == '0':  \n",
    "                    hypothesis[j] = actual_term\n",
    "                elif hypothesis[j] != actual_term:  \n",
    "                    hypothesis[j] = '?'\n",
    "    return hypothesis[:-1]\n",
    "\n",
    "print(find_s_algorithm(df))"
   ]
  },
  {
   "cell_type": "code",
   "execution_count": null,
   "metadata": {},
   "outputs": [],
   "source": []
  }
 ],
 "metadata": {
  "kernelspec": {
   "display_name": "base",
   "language": "python",
   "name": "python3"
  },
  "language_info": {
   "codemirror_mode": {
    "name": "ipython",
    "version": 3
   },
   "file_extension": ".py",
   "mimetype": "text/x-python",
   "name": "python",
   "nbconvert_exporter": "python",
   "pygments_lexer": "ipython3",
   "version": "3.9.17"
  }
 },
 "nbformat": 4,
 "nbformat_minor": 2
}
